{
 "cells": [
  {
   "cell_type": "code",
   "execution_count": 1,
   "id": "e8ce8b0d",
   "metadata": {},
   "outputs": [
    {
     "name": "stderr",
     "output_type": "stream",
     "text": [
      "Failed to get ticker '9984.T' reason: Expecting value: line 1 column 1 (char 0)\n",
      "Failed to get ticker 'AAPL' reason: Expecting value: line 1 column 1 (char 0)\n",
      "[*********************100%***********************]  1 of 2 completed\n",
      "\n",
      "2 Failed downloads:\n",
      "['9984.T', 'AAPL']: YFTzMissingError('$%ticker%: possibly delisted; no timezone found')\n"
     ]
    },
    {
     "name": "stdout",
     "output_type": "stream",
     "text": [
      "Empty DataFrame\n",
      "Columns: [(Adj Close, 9984.T), (Adj Close, AAPL), (Close, 9984.T), (Close, AAPL), (High, 9984.T), (High, AAPL), (Low, 9984.T), (Low, AAPL), (Open, 9984.T), (Open, AAPL), (Volume, 9984.T), (Volume, AAPL)]\n",
      "Index: []\n"
     ]
    },
    {
     "name": "stderr",
     "output_type": "stream",
     "text": [
      "[*********************100%***********************]  1 of 2 completed"
     ]
    }
   ],
   "source": [
    "import yfinance as yf\n",
    "\n",
    "# Exemplo: ações da NYSE (ex: AAPL) e TSE (ex: 9984.T para SoftBank)\n",
    "tickers = ['AAPL', '9984.T']\n",
    "data = yf.download(tickers, period='max', interval='1d', threads=True)\n",
    "print(data.head())"
   ]
  },
  {
   "cell_type": "code",
   "execution_count": null,
   "id": "726754a8",
   "metadata": {},
   "outputs": [],
   "source": [
    "from pandas_datareader import data as pdr\n",
    "import datetime as dt\n",
    "\n",
    "start = dt.datetime(2000,1,1)\n",
    "end   = dt.datetime.today()\n",
    "df = pdr.get_data_yahoo('MSFT', start, end)\n",
    "print(df[['Open','Close']].head())"
   ]
  },
  {
   "cell_type": "code",
   "execution_count": null,
   "id": "0005ca99",
   "metadata": {},
   "outputs": [],
   "source": [
    "import pandas as pd\n",
    "\n",
    "df = pd.read_csv('USDJPY_d1.csv', sep=';', parse_dates=['Date'])\n",
    "print(df.head())"
   ]
  },
  {
   "cell_type": "code",
   "execution_count": null,
   "id": "66d1dc37",
   "metadata": {},
   "outputs": [],
   "source": [
    "import quandl\n",
    "quandl.ApiConfig.api_key = 'SEU_TOKEN'\n",
    "df = quandl.get('FRED/DTB3', start_date='2000-01-01', end_date='2025-07-07')\n",
    "print(df.head())"
   ]
  },
  {
   "cell_type": "code",
   "execution_count": null,
   "id": "d0866c3c",
   "metadata": {},
   "outputs": [],
   "source": [
    "pip install yfinance pandas_datareader quandl"
   ]
  },
  {
   "cell_type": "code",
   "execution_count": null,
   "id": "c74a2225",
   "metadata": {},
   "outputs": [],
   "source": [
    "df.to_csv('dados_ações.csv')\n"
   ]
  },
  {
   "cell_type": "code",
   "execution_count": null,
   "id": "ad2a8af8",
   "metadata": {},
   "outputs": [],
   "source": []
  }
 ],
 "metadata": {
  "kernelspec": {
   "display_name": "Python 3",
   "language": "python",
   "name": "python3"
  },
  "language_info": {
   "codemirror_mode": {
    "name": "ipython",
    "version": 3
   },
   "file_extension": ".py",
   "mimetype": "text/x-python",
   "name": "python",
   "nbconvert_exporter": "python",
   "pygments_lexer": "ipython3",
   "version": "3.13.0"
  }
 },
 "nbformat": 4,
 "nbformat_minor": 5
}
