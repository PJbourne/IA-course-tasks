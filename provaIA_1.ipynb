{
  "nbformat": 4,
  "nbformat_minor": 0,
  "metadata": {
    "colab": {
      "provenance": [],
      "authorship_tag": "ABX9TyNs5kq46TQOJWSLrqwVbDdA",
      "include_colab_link": true
    },
    "kernelspec": {
      "name": "python3",
      "display_name": "Python 3"
    },
    "language_info": {
      "name": "python"
    }
  },
  "cells": [
    {
      "cell_type": "markdown",
      "metadata": {
        "id": "view-in-github",
        "colab_type": "text"
      },
      "source": [
        "<a href=\"https://colab.research.google.com/github/PJbourne/IA-course-tasks/blob/main/provaIA_1.ipynb\" target=\"_parent\"><img src=\"https://colab.research.google.com/assets/colab-badge.svg\" alt=\"Open In Colab\"/></a>"
      ]
    },
    {
      "cell_type": "code",
      "execution_count": null,
      "metadata": {
        "id": "pk86GsqcLCuG"
      },
      "outputs": [],
      "source": [
        "from sklearn.linear_model import Perceptron\n",
        "from sklearn.preprocessing import StandardScaler\n",
        "from sklearn.pipeline import Pipeline\n",
        "from sklearn.metrics import accuracy_score\n",
        "import pandas as pd # Import necessário para o DataFrame\n",
        "from sklearn.model_selection import train_test_split # Import da função usada pelo usuário"
      ]
    },
    {
      "cell_type": "code",
      "source": [
        "from io import StringIO"
      ],
      "metadata": {
        "id": "0mbvhU67WdS2"
      },
      "execution_count": null,
      "outputs": []
    },
    {
      "cell_type": "markdown",
      "source": [
        "#Dados:"
      ],
      "metadata": {
        "id": "bfvVx2_FWnxS"
      }
    },
    {
      "cell_type": "code",
      "source": [
        "raw = \"\"\"sepal.length,sepal.width,petal.length,petal.width,variety\n",
        "5.1,3.5,1.4,.2,Setosa\n",
        "4.9,3,1.4,.2,Setosa\n",
        "4.7,3.2,1.3,.2,Setosa\n",
        "4.6,3.1,1.5,.2,Setosa\n",
        "5,3.6,1.4,.2,Setosa\n",
        "5.4,3.9,1.7,.4,Setosa\n",
        "4.6,3.4,1.4,.3,Setosa\n",
        "5,3.4,1.5,.2,Setosa\n",
        "4.4,2.9,1.4,.2,Setosa\n",
        "4.9,3.1,1.5,.1,Setosa\n",
        "5.4,3.7,1.5,.2,Setosa\n",
        "4.8,3.4,1.6,.2,Setosa\n",
        "4.8,3,1.4,.1,Setosa\n",
        "4.3,3,1.1,.1,Setosa\n",
        "5.8,4,1.2,.2,Setosa\n",
        "5.7,4.4,1.5,.4,Setosa\n",
        "5.4,3.9,1.3,.4,Setosa\n",
        "5.1,3.5,1.4,.3,Setosa\n",
        "5.7,3.8,1.7,.3,Setosa\n",
        "5.1,3.8,1.5,.3,Setosa\n",
        "5.4,3.4,1.7,.2,Setosa\n",
        "5.1,3.7,1.5,.4,Setosa\n",
        "4.6,3.6,1,.2,Setosa\n",
        "5.1,3.3,1.7,.5,Setosa\n",
        "4.8,3.4,1.9,.2,Setosa\n",
        "5,3,1.6,.2,Setosa\n",
        "5,3.4,1.6,.4,Setosa\n",
        "5.2,3.5,1.5,.2,Setosa\n",
        "5.2,3.4,1.4,.2,Setosa\n",
        "4.7,3.2,1.6,.2,Setosa\n",
        "4.8,3.1,1.6,.2,Setosa\n",
        "5.4,3.4,1.5,.4,Setosa\n",
        "5.2,4.1,1.5,.1,Setosa\n",
        "5.5,4.2,1.4,.2,Setosa\n",
        "4.9,3.1,1.5,.2,Setosa\n",
        "5,3.2,1.2,.2,Setosa\n",
        "5.5,3.5,1.3,.2,Setosa\n",
        "4.9,3.6,1.4,.1,Setosa\n",
        "4.4,3,1.3,.2,Setosa\n",
        "5.1,3.4,1.5,.2,Setosa\n",
        "5,3.5,1.3,.3,Setosa\n",
        "4.5,2.3,1.3,.3,Setosa\n",
        "4.4,3.2,1.3,.2,Setosa\n",
        "5,3.5,1.6,.6,Setosa\n",
        "5.1,3.8,1.9,.4,Setosa\n",
        "4.8,3,1.4,.3,Setosa\n",
        "5.1,3.8,1.6,.2,Setosa\n",
        "4.6,3.2,1.4,.2,Setosa\n",
        "7,3.2,4.7,1.4,Versicolor\n",
        "6.4,3.2,4.5,1.5,Versicolor\n",
        "6.9,3.1,4.9,1.5,Versicolor\n",
        "5.5,2.3,4,1.3,Versicolor\n",
        "6.5,2.8,4.6,1.5,Versicolor\n",
        "5.7,2.8,4.5,1.3,Versicolor\n",
        "6.3,3.3,4.7,1.6,Versicolor\n",
        "4.9,2.4,3.3,1,Versicolor\n",
        "6.6,2.9,4.6,1.3,Versicolor\n",
        "5.2,2.7,3.9,1.4,Versicolor\n",
        "5,2,3.5,1,Versicolor\n",
        "5.9,3,4.2,1.5,Versicolor\n",
        "6,2.2,4,1,Versicolor\n",
        "6.1,2.9,4.7,1.4,Versicolor\n",
        "5.6,2.9,3.6,1.3,Versicolor\n",
        "6.7,3.1,4.4,1.4,Versicolor\n",
        "5.6,3,4.5,1.5,Versicolor\n",
        "5.8,2.7,4.1,1,Versicolor\n",
        "6.2,2.2,4.5,1.5,Versicolor\n",
        "5.6,2.5,3.9,1.1,Versicolor\n",
        "5.9,3.2,4.8,1.8,Versicolor\n",
        "6.1,2.8,4,1.3,Versicolor\n",
        "6.3,2.5,4.9,1.5,Versicolor\n",
        "6.4,2.9,4.3,1.3,Versicolor\n",
        "6.6,3,4.4,1.4,Versicolor\n",
        "6.8,2.8,4.8,1.4,Versicolor\n",
        "6.7,3,5,1.7,Versicolor\n",
        "6,2.9,4.5,1.5,Versicolor\n",
        "5.7,2.6,3.5,1,Versicolor\n",
        "5.5,2.4,3.8,1.1,Versicolor\n",
        "5.5,2.4,3.7,1,Versicolor\n",
        "5.8,2.7,3.9,1.2,Versicolor\n",
        "5.4,3,4.5,1.5,Versicolor\n",
        "6,3.4,4.5,1.6,Versicolor\n",
        "6.7,3.1,4.7,1.5,Versicolor\n",
        "6.3,2.3,4.4,1.3,Versicolor\n",
        "5.6,3,4.1,1.3,Versicolor\n",
        "5.5,2.5,4,1.3,Versicolor\n",
        "5.5,2.6,4.4,1.2,Versicolor\n",
        "6.1,3,4.6,1.4,Versicolor\n",
        "5.8,2.6,4,1.2,Versicolor\n",
        "5,2.3,3.3,1,Versicolor\n",
        "5.6,2.7,4.2,1.3,Versicolor\n",
        "5.7,3,4.2,1.2,Versicolor\n",
        "5.7,2.9,4.2,1.3,Versicolor\n",
        "6.2,2.9,4.3,1.3,Versicolor\n",
        "5.1,2.5,3,1.1,Versicolor\n",
        "5.7,2.8,4.1,1.3,Versicolor\n",
        "6.3,3.3,6,2.5,Virginica\n",
        "5.8,2.7,5.1,1.9,Virginica\n",
        "7.1,3,5.9,2.1,Virginica\n",
        "6.3,2.9,5.6,1.8,Virginica\n",
        "6.5,3,5.8,2.2,Virginica\n",
        "7.6,3,6.6,2.1,Virginica\n",
        "4.9,2.5,4.5,1.7,Virginica\n",
        "7.3,2.9,6.3,1.8,Virginica\n",
        "6.7,2.5,5.8,1.8,Virginica\n",
        "7.2,3.6,6.1,2.5,Virginica\n",
        "6.5,3.2,5.1,2,Virginica\n",
        "6.4,2.7,5.3,1.9,Virginica\n",
        "6.8,3,5.5,2.1,Virginica\n",
        "5.7,2.5,5,2,Virginica\n",
        "5.8,2.8,5.1,2.4,Virginica\n",
        "6.4,3.2,5.3,2.3,Virginica\n",
        "6.5,3,5.5,1.8,Virginica\n",
        "7.7,3.8,6.7,2.2,Virginica\n",
        "7.7,2.6,6.9,2.3,Virginica\n",
        "6,2.2,5,1.5,Virginica\n",
        "6.9,3.2,5.7,2.3,Virginica\n",
        "5.6,2.8,4.9,2,Virginica\n",
        "7.7,2.8,6.7,2,Virginica\n",
        "6.3,2.7,4.9,1.8,Virginica\n",
        "6.7,3.3,5.7,2.1,Virginica\n",
        "7.2,3.2,6,1.8,Virginica\n",
        "6.2,2.8,4.8,1.8,Virginica\n",
        "6.1,3,4.9,1.8,Virginica\n",
        "6.4,2.8,5.6,2.1,Virginica\n",
        "7.2,3,5.8,1.6,Virginica\n",
        "7.4,2.8,6.1,1.9,Virginica\n",
        "7.9,3.8,6.4,2,Virginica\n",
        "6.4,2.8,5.6,2.2,Virginica\n",
        "6.3,2.8,5.1,1.5,Virginica\n",
        "6.1,2.6,5.6,1.4,Virginica\n",
        "7.7,3,6.1,2.3,Virginica\n",
        "6.3,3.4,5.6,2.4,Virginica\n",
        "6.4,3.1,5.5,1.8,Virginica\n",
        "6,3,4.8,1.8,Virginica\n",
        "6.7,3.1,5.6,2.4,Virginica\n",
        "6.9,3.1,5.1,2.3,Virginica\n",
        "5.8,2.7,5.1,1.9,Virginica\n",
        "6.8,3.2,5.9,2.3,Virginica\n",
        "6.7,3.3,5.7,2.5,Virginica\n",
        "6.7,3,5.2,2.3,Virginica\n",
        "6.3,2.5,5,1.9,Virginica\n",
        "6.5,3,5.2,2,Virginica\n",
        "6.2,3.4,5.4,2.3,Virginica\n",
        "5.9,3,5.1,1.8,Virginica\n",
        "\"\"\""
      ],
      "metadata": {
        "id": "L80n5JftVsTy"
      },
      "execution_count": null,
      "outputs": []
    },
    {
      "cell_type": "markdown",
      "source": [
        "# codigo"
      ],
      "metadata": {
        "id": "gqWU6v01Wtej"
      }
    },
    {
      "cell_type": "code",
      "source": [
        "df = pd.read_csv(StringIO(raw))\n",
        "print(df)"
      ],
      "metadata": {
        "colab": {
          "base_uri": "https://localhost:8080/"
        },
        "id": "PfUzMz5-WgVn",
        "outputId": "b015aab0-7698-4993-d928-cf5194f90d6f"
      },
      "execution_count": null,
      "outputs": [
        {
          "output_type": "stream",
          "name": "stdout",
          "text": [
            "     sepal.length  sepal.width  petal.length  petal.width    variety\n",
            "0             5.1          3.5           1.4          0.2     Setosa\n",
            "1             4.9          3.0           1.4          0.2     Setosa\n",
            "2             4.7          3.2           1.3          0.2     Setosa\n",
            "3             4.6          3.1           1.5          0.2     Setosa\n",
            "4             5.0          3.6           1.4          0.2     Setosa\n",
            "..            ...          ...           ...          ...        ...\n",
            "140           6.7          3.0           5.2          2.3  Virginica\n",
            "141           6.3          2.5           5.0          1.9  Virginica\n",
            "142           6.5          3.0           5.2          2.0  Virginica\n",
            "143           6.2          3.4           5.4          2.3  Virginica\n",
            "144           5.9          3.0           5.1          1.8  Virginica\n",
            "\n",
            "[145 rows x 5 columns]\n"
          ]
        }
      ]
    },
    {
      "cell_type": "code",
      "source": [
        "features = [\"sepal.length\", \"sepal.width\", \"petal.length\", \"petal.width\"]\n",
        "target = \"variety\"\n",
        "\n",
        "treino_x, teste_x, treino_y, teste_y = train_test_split(df[features], df[target], test_size=0.20, random_state=10)\n",
        "\n",
        "\n",
        "# 1. Criar o classificador Perceptron\n",
        "# É uma boa prática usar StandardScaler com Perceptrons.\n",
        "# Um Pipeline combina o escalonamento e o classificador.\n",
        "perceptron_clf = Pipeline([\n",
        "    (\"scaler\", StandardScaler()),  # Etapa de escalonamento\n",
        "    (\"perceptron\", Perceptron(random_state=10, eta0=0.1, max_iter=1000, tol=1e-3)) # Classificador Perceptron\n",
        "    # random_state: para reprodutibilidade\n",
        "    # eta0: taxa de aprendizado inicial\n",
        "    # max_iter: número máximo de épocas (passagens sobre os dados)\n",
        "    # tol: critério de parada\n",
        "])\n",
        "\n",
        "perceptron_clf.fit(treino_x, treino_y)\n",
        "\n",
        "predicoes_y = perceptron_clf.predict(teste_x)\n",
        "\n",
        "acuracia = accuracy_score(teste_y, predicoes_y)\n",
        "print(f\"Acurácia do Perceptron no conjunto de teste: {acuracia:.4f}\")"
      ],
      "metadata": {
        "colab": {
          "base_uri": "https://localhost:8080/"
        },
        "id": "zVVXDU83V0si",
        "outputId": "4474b3b8-fec4-4d63-b123-f9e414215b66"
      },
      "execution_count": null,
      "outputs": [
        {
          "output_type": "stream",
          "name": "stdout",
          "text": [
            "Acurácia do Perceptron no conjunto de teste: 0.8621\n"
          ]
        }
      ]
    },
    {
      "cell_type": "code",
      "source": [
        "\n",
        "# --- ETAPA 1: Treinar um classificador Perceptron (exemplo) ---\n",
        "# Carregar dados de exemplo para treinar o classificador\n",
        "\n",
        "df_treino_completo = df\n",
        "\n",
        "\n",
        "features_cols = [\"sepal.length\", \"sepal.width\", \"petal.length\", \"petal.width\"]\n",
        "target_col = [\"variety\"]\n",
        "\n",
        "# Dividir dados de treino (usando apenas uma porção para o treino do exemplo)\n",
        "X_treino, _, y_treino, _ = train_test_split(\n",
        "    df_treino_completo[features_cols],\n",
        "    df_treino_completo[target_col],\n",
        "    test_size=0.20,\n",
        "    random_state=10\n",
        ")\n",
        "\n",
        "# Criar e treinar o pipeline do Perceptron\n",
        "perceptron_clf = Pipeline([\n",
        "    (\"scaler\", StandardScaler()),\n",
        "    (\"perceptron\", Perceptron(random_state=10, eta0=0.1, max_iter=1000, tol=1e-3))\n",
        "])\n",
        "perceptron_clf.fit(X_treino, y_treino)\n",
        "print(\"Classificador Perceptron treinado.\")\n",
        "\n",
        "# --- ETAPA 2: Criar o seu df_test ---\n",
        "data_string_test = \"\"\"sepal.length sepal.width petal.length petal.width variety\n",
        "5.3 3.7 1.5 0.2 setosa\n",
        "5.0 3.3 1.4 0.2 setosa\n",
        "6.1 2.8 4.7 1.2 versicolor\n",
        "6.0 2.7 5.1 1.6 versicolor\n",
        "6.9 3.1 5.4 2.1 virginica\n",
        "\"\"\"\n",
        "df_test = pd.read_csv(StringIO(data_string_test), sep='\\s+')\n",
        "print(\"\\nDataFrame de teste (df_test) criado:\")\n",
        "print(df_test)\n",
        "\n",
        "# --- ETAPA 3: Seu código para obter predições ---\n",
        "features_test = df_test[[\"sepal.length\", \"sepal.width\", \"petal.length\", \"petal.width\"]]\n",
        "target_test = df_test[\"variety\"] # target_test é uma Series do pandas\n",
        "\n",
        "predicoes_novo_df = perceptron_clf.predict(features_test) # predicoes_novo_df é um array NumPy\n",
        "\n",
        "print(\"\\nPredições para o novo conjunto de dados:\")\n",
        "print(predicoes_novo_df)\n",
        "print(\"\\nValores reais do novo conjunto de dados:\")\n",
        "print(target_test.values) # .values para obter o array NumPy\n",
        "\n",
        "# --- ETAPA 4: Combinar resultados e salvar em arquivos ---\n",
        "\n",
        "# Criar um DataFrame para facilitar a exportação\n",
        "resultados_df = pd.DataFrame({\n",
        "    'Valor_Real': target_test,  # Pode usar a Series diretamente\n",
        "    'Valor_Predito': predicoes_novo_df\n",
        "})\n",
        "\n",
        "print(\"\\nDataFrame com valores reais e preditos:\")\n",
        "print(resultados_df)\n",
        "\n",
        "# Salvar em arquivo CSV\n",
        "nome_arquivo_csv = 'comparacao_predicoes.csv'\n",
        "resultados_df.to_csv(nome_arquivo_csv, index=False)\n",
        "print(f\"\\nResultados salvos em formato CSV no arquivo: '{nome_arquivo_csv}'\")\n",
        "\n",
        "# Salvar em arquivo TXT (usando tabulação como separador)\n",
        "nome_arquivo_txt = 'comparacao_predicoes.txt'\n",
        "resultados_df.to_csv(nome_arquivo_txt, index=False, sep='\\t')\n",
        "print(f\"Resultados salvos em formato TXT no arquivo: '{nome_arquivo_txt}'\")\n",
        "\n",
        "# Para verificar o conteúdo dos arquivos criados (opcional):\n",
        "# print(\"\\nConteúdo do arquivo CSV:\")\n",
        "# with open(nome_arquivo_csv, 'r') as f:\n",
        "#     print(f.read())\n",
        "\n",
        "# print(\"\\nConteúdo do arquivo TXT:\")\n",
        "# with open(nome_arquivo_txt, 'r') as f:\n",
        "#     print(f.read())"
      ],
      "metadata": {
        "colab": {
          "base_uri": "https://localhost:8080/"
        },
        "id": "SXTqedbOYD3w",
        "outputId": "60c5dcbc-2a6a-4454-9425-6661318620ca"
      },
      "execution_count": null,
      "outputs": [
        {
          "output_type": "stream",
          "name": "stdout",
          "text": [
            "Classificador Perceptron treinado.\n",
            "\n",
            "DataFrame de teste (df_test) criado:\n",
            "   sepal.length  sepal.width  petal.length  petal.width     variety\n",
            "0           5.3          3.7           1.5          0.2      setosa\n",
            "1           5.0          3.3           1.4          0.2      setosa\n",
            "2           6.1          2.8           4.7          1.2  versicolor\n",
            "3           6.0          2.7           5.1          1.6  versicolor\n",
            "4           6.9          3.1           5.4          2.1   virginica\n",
            "\n",
            "Predições para o novo conjunto de dados:\n",
            "['Setosa' 'Setosa' 'Versicolor' 'Virginica' 'Virginica']\n",
            "\n",
            "Valores reais do novo conjunto de dados:\n",
            "['setosa' 'setosa' 'versicolor' 'versicolor' 'virginica']\n",
            "\n",
            "DataFrame com valores reais e preditos:\n",
            "   Valor_Real Valor_Predito\n",
            "0      setosa        Setosa\n",
            "1      setosa        Setosa\n",
            "2  versicolor    Versicolor\n",
            "3  versicolor     Virginica\n",
            "4   virginica     Virginica\n",
            "\n",
            "Resultados salvos em formato CSV no arquivo: 'comparacao_predicoes.csv'\n",
            "Resultados salvos em formato TXT no arquivo: 'comparacao_predicoes.txt'\n"
          ]
        },
        {
          "output_type": "stream",
          "name": "stderr",
          "text": [
            "/usr/local/lib/python3.11/dist-packages/sklearn/utils/validation.py:1408: DataConversionWarning: A column-vector y was passed when a 1d array was expected. Please change the shape of y to (n_samples, ), for example using ravel().\n",
            "  y = column_or_1d(y, warn=True)\n"
          ]
        }
      ]
    },
    {
      "cell_type": "code",
      "source": [],
      "metadata": {
        "id": "Q0mrZnzqZGBb"
      },
      "execution_count": null,
      "outputs": []
    }
  ]
}