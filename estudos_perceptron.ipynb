{
 "cells": [
  {
   "cell_type": "markdown",
   "id": "c217ed46",
   "metadata": {},
   "source": [
    "### Apêndice I - Redes neurais artificiais para engenharia e ciÇencias aplicadas"
   ]
  },
  {
   "cell_type": "code",
   "execution_count": 186,
   "id": "e55ed96b",
   "metadata": {},
   "outputs": [
    {
     "data": {
      "text/html": [
       "<div>\n",
       "<style scoped>\n",
       "    .dataframe tbody tr th:only-of-type {\n",
       "        vertical-align: middle;\n",
       "    }\n",
       "\n",
       "    .dataframe tbody tr th {\n",
       "        vertical-align: top;\n",
       "    }\n",
       "\n",
       "    .dataframe thead th {\n",
       "        text-align: right;\n",
       "    }\n",
       "</style>\n",
       "<table border=\"1\" class=\"dataframe\">\n",
       "  <thead>\n",
       "    <tr style=\"text-align: right;\">\n",
       "      <th></th>\n",
       "      <th>Amostra</th>\n",
       "      <th>X1</th>\n",
       "      <th>X2</th>\n",
       "      <th>X3</th>\n",
       "      <th>d</th>\n",
       "    </tr>\n",
       "  </thead>\n",
       "  <tbody>\n",
       "    <tr>\n",
       "      <th>0</th>\n",
       "      <td>01</td>\n",
       "      <td>-0.6508</td>\n",
       "      <td>0.1097</td>\n",
       "      <td>4.0009</td>\n",
       "      <td>-1.0</td>\n",
       "    </tr>\n",
       "    <tr>\n",
       "      <th>1</th>\n",
       "      <td>02</td>\n",
       "      <td>-1.4492</td>\n",
       "      <td>0.8896</td>\n",
       "      <td>4.4005</td>\n",
       "      <td>-1.0</td>\n",
       "    </tr>\n",
       "    <tr>\n",
       "      <th>2</th>\n",
       "      <td>03</td>\n",
       "      <td>2.0850</td>\n",
       "      <td>0.6876</td>\n",
       "      <td>12.0710</td>\n",
       "      <td>-1.0</td>\n",
       "    </tr>\n",
       "    <tr>\n",
       "      <th>3</th>\n",
       "      <td>04</td>\n",
       "      <td>0.2626</td>\n",
       "      <td>1.1476</td>\n",
       "      <td>7.7985</td>\n",
       "      <td>1.0</td>\n",
       "    </tr>\n",
       "    <tr>\n",
       "      <th>4</th>\n",
       "      <td>05</td>\n",
       "      <td>0.6418</td>\n",
       "      <td>1.0234</td>\n",
       "      <td>7.0427</td>\n",
       "      <td>1.0</td>\n",
       "    </tr>\n",
       "  </tbody>\n",
       "</table>\n",
       "</div>"
      ],
      "text/plain": [
       "  Amostra      X1      X2       X3    d\n",
       "0      01 -0.6508  0.1097   4.0009 -1.0\n",
       "1      02 -1.4492  0.8896   4.4005 -1.0\n",
       "2      03  2.0850  0.6876  12.0710 -1.0\n",
       "3      04  0.2626  1.1476   7.7985  1.0\n",
       "4      05  0.6418  1.0234   7.0427  1.0"
      ]
     },
     "execution_count": 186,
     "metadata": {},
     "output_type": "execute_result"
    }
   ],
   "source": [
    "# Apendice I\n",
    "import pandas as pd\n",
    "data = [\n",
    "    ['01', -0.6508, 0.1097, 4.0009, -1.0000],\n",
    "    ['02', -1.4492, 0.8896, 4.4005, -1.0000],\n",
    "    ['03', 2.0850, 0.6876, 12.0710, -1.0000],\n",
    "    ['04', 0.2626, 1.1476, 7.7985, 1.0000],\n",
    "    ['05', 0.6418, 1.0234, 7.0427, 1.0000],\n",
    "    ['06', 0.2569, 0.6730, 8.3265, -1.0000],\n",
    "    ['07', 1.1155, 0.6043, 7.4446, 1.0000],\n",
    "    ['08', 0.0914, 0.3399, 7.0677, -1.0000],\n",
    "    ['09', 0.0121, 0.5256, 4.6316, 1.0000],\n",
    "    ['10', -0.0429, 0.4660, 5.4323, 1.0000],\n",
    "    ['11', 0.4340, 0.6870, 8.2287, -1.0000],\n",
    "    ['12', 0.2735, 1.0287, 7.1934, 1.0000],\n",
    "    ['13', 0.4839, 0.4851, 7.4850, -1.0000],\n",
    "    ['14', 0.4089, -0.1267, 5.5019, -1.0000],\n",
    "    ['15', 1.4391, 0.1614, 8.5843, -1.0000],\n",
    "    ['16', -0.9115, -0.1973, 2.1962, -1.0000],\n",
    "    ['17', 0.3654, 1.0475, 7.4858, 1.0000],\n",
    "    ['18', 0.2144, 0.7515, 7.1699, 1.0000],\n",
    "    ['19', 0.2013, 1.0014, 6.5489, 1.0000],\n",
    "    ['20', 0.6483, 0.2183, 5.8991, 1.0000],\n",
    "    ['21', -0.1147, 0.2242, 7.2435, -1.0000],\n",
    "    ['22', -0.7970, 0.8795, 3.8762, 1.0000],\n",
    "    ['23', -1.0625, 0.6366, 2.4707, 1.0000],\n",
    "    ['24', 0.5307, 0.1285, 5.6883, 1.0000],\n",
    "    ['25', -1.2200, 0.7777, 1.7252, 1.0000],\n",
    "    ['26', 0.3957, 0.1076, 5.6623, -1.0000],\n",
    "    ['27', -0.1013, 0.5989, 7.1812, -1.0000],\n",
    "    ['28', 2.4482, 0.9455, 11.2095, 1.0000],\n",
    "    ['29', 2.0149, 0.6192, 10.9263, -1.0000],\n",
    "    ['30', 0.2012, 0.2611, 5.4631, 1.0000]\n",
    "]\n",
    "columns = ['Amostra', 'X1', 'X2', 'X3', 'd']\n",
    "df = pd.DataFrame(data, columns=columns)\n",
    "df.head()"
   ]
  },
  {
   "cell_type": "code",
   "execution_count": 187,
   "id": "025f185b",
   "metadata": {},
   "outputs": [],
   "source": [
    "import numpy as np\n",
    "x = np.array(df[columns[1:4]])\n",
    "d = np.array(df[columns[4]])\n",
    "w = np.random.uniform(0, 1, size=(1, 3))\n",
    "w0 = -1"
   ]
  },
  {
   "cell_type": "code",
   "execution_count": 188,
   "id": "19e7c360",
   "metadata": {},
   "outputs": [],
   "source": [
    "def activation(u):\n",
    "    return np.where(u >= 0, 1, -1)"
   ]
  },
  {
   "cell_type": "code",
   "execution_count": 189,
   "id": "f89de375",
   "metadata": {},
   "outputs": [
    {
     "name": "stdout",
     "output_type": "stream",
     "text": [
      "Converged after 1588 epochs\n",
      "Final weights: [[ 8.6689158  14.03874596 -4.04008001]]\n",
      "Final bias: 17.83999999999991\n"
     ]
    }
   ],
   "source": [
    "learn = 0.01\n",
    "epoch = range(10000)\n",
    "for i in epoch:\n",
    "    u = w @ x.T + w0\n",
    "    y = activation(u)\n",
    "    if (y != d).any():\n",
    "        w = w + learn * (d - y) @ x\n",
    "        w0 = w0 + learn * (d - y).sum()\n",
    "    else:\n",
    "        print(f\"Converged after {i} epochs\")\n",
    "        print(\"Final weights:\", w)\n",
    "        print(\"Final bias:\", w0)\n",
    "        break"
   ]
  },
  {
   "cell_type": "markdown",
   "id": "8ae9bf73",
   "metadata": {},
   "source": [
    "### Implementation comparision using \"error\" claculation as prior"
   ]
  },
  {
   "cell_type": "code",
   "execution_count": 190,
   "id": "fd97a09c",
   "metadata": {},
   "outputs": [
    {
     "name": "stdout",
     "output_type": "stream",
     "text": [
      "Converged after 1565 epochs\n",
      "Final weights: [[ 8.7514272  14.20589483 -4.13838569]]\n",
      "Final bias: 17.79999999999994\n"
     ]
    }
   ],
   "source": [
    "w = np.array([[0.4117752 , 0.26449883, 0.84891831]])\n",
    "w0 = -1\n",
    "learn = 0.01\n",
    "epoch = range(10000)\n",
    "for i in epoch:\n",
    "    u = w @ x.T + w0\n",
    "    y = activation(u)\n",
    "    if (y != d).any():\n",
    "        w = w + learn * (d - y) @ x\n",
    "        w0 = w0 + learn * (d - y).sum()\n",
    "    else:\n",
    "        print(f\"Converged after {i} epochs\")\n",
    "        print(\"Final weights:\", w)\n",
    "        print(\"Final bias:\", w0)\n",
    "        break"
   ]
  },
  {
   "cell_type": "code",
   "execution_count": 191,
   "id": "e200df11",
   "metadata": {},
   "outputs": [
    {
     "name": "stdout",
     "output_type": "stream",
     "text": [
      "Converged after 1565 epochs\n",
      "Final weights: [[ 8.7514272  14.20589483 -4.13838569]]\n",
      "Final bias: 17.79999999999994\n"
     ]
    }
   ],
   "source": [
    "w = np.array([[0.4117752 , 0.26449883, 0.84891831]])\n",
    "w0 = -1\n",
    "learn = 0.01\n",
    "epoch = range(10000)\n",
    "for i in epoch:\n",
    "    u = w @ x.T + w0\n",
    "    y = activation(u)\n",
    "    error = d - y\n",
    "    if (error != 0).any():\n",
    "        w += learn * error @ x\n",
    "        w0 += learn * error.sum()\n",
    "    else:\n",
    "        print(f\"Converged after {i} epochs\")\n",
    "        print(\"Final weights:\", w)\n",
    "        print(\"Final bias:\", w0)\n",
    "        break"
   ]
  },
  {
   "cell_type": "code",
   "execution_count": null,
   "id": "3fabfd0c",
   "metadata": {},
   "outputs": [],
   "source": []
  }
 ],
 "metadata": {
  "kernelspec": {
   "display_name": "Python 3",
   "language": "python",
   "name": "python3"
  },
  "language_info": {
   "codemirror_mode": {
    "name": "ipython",
    "version": 3
   },
   "file_extension": ".py",
   "mimetype": "text/x-python",
   "name": "python",
   "nbconvert_exporter": "python",
   "pygments_lexer": "ipython3",
   "version": "3.13.0"
  }
 },
 "nbformat": 4,
 "nbformat_minor": 5
}
