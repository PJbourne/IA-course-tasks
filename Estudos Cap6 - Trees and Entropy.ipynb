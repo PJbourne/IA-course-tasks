{
 "cells": [
  {
   "cell_type": "markdown",
   "id": "3984c904",
   "metadata": {},
   "source": [
    "# Tabela 6.1 Exemplo de conjunto de dados play"
   ]
  },
  {
   "cell_type": "code",
   "execution_count": 27,
   "id": "7b0a87fa",
   "metadata": {},
   "outputs": [
    {
     "name": "stdout",
     "output_type": "stream",
     "text": [
      "         Tempo  Temperatura  Umidade Vento Joga\n",
      "0      Chuvoso           71       91   Sim  Não\n",
      "1   Ensolarado           69       70   Não  Sim\n",
      "2   Ensolarado           80       90   Sim  Não\n",
      "3      Nublado           83       86   Não  Sim\n",
      "4      Chuvoso           70       96   Não  Sim\n",
      "5      Chuvoso           65       70   Sim  Não\n",
      "6      Nublado           64       65   Sim  Sim\n",
      "7      Nublado           72       90   Sim  Sim\n",
      "8   Ensolarado           75       70   Sim  Sim\n",
      "9      Chuvoso           68       80   Não  Sim\n",
      "10     Nublado           81       75   Não  Sim\n",
      "11  Ensolarado           85       85   Não  Não\n",
      "12  Ensolarado           72       95   Não  Não\n",
      "13     Chuvoso           75       80   Não  Sim\n"
     ]
    }
   ],
   "source": [
    "import pandas as pd\n",
    "import numpy as np\n",
    "# Tabela 6.1 \n",
    "dados = {\n",
    "    \"Tempo\": [\n",
    "        \"Chuvoso\", \"Ensolarado\", \"Ensolarado\", \"Nublado\", \"Chuvoso\",\n",
    "        \"Chuvoso\", \"Nublado\", \"Nublado\", \"Ensolarado\", \"Chuvoso\",\n",
    "        \"Nublado\", \"Ensolarado\", \"Ensolarado\", \"Chuvoso\"\n",
    "    ],\n",
    "    \"Temperatura\": [\n",
    "        71, 69, 80, 83, 70,\n",
    "        65, 64, 72, 75, 68,\n",
    "        81, 85, 72, 75\n",
    "    ],\n",
    "    \"Umidade\": [\n",
    "        91, 70, 90, 86, 96,\n",
    "        70, 65, 90, 70, 80,\n",
    "        75, 85, 95, 80\n",
    "    ],\n",
    "    \"Vento\": [\n",
    "        \"Sim\", \"Não\", \"Sim\", \"Não\", \"Não\",\n",
    "        \"Sim\", \"Sim\", \"Sim\", \"Sim\", \"Não\",\n",
    "        \"Não\", \"Não\", \"Não\", \"Não\"\n",
    "    ],\n",
    "    \"Joga\": [\n",
    "        \"Não\", \"Sim\", \"Não\", \"Sim\", \"Sim\",\n",
    "        \"Não\", \"Sim\", \"Sim\", \"Sim\", \"Sim\",\n",
    "        \"Sim\", \"Não\", \"Não\", \"Sim\"\n",
    "    ]\n",
    "}\n",
    "df = pd.DataFrame(dados)\n",
    "print(df)"
   ]
  },
  {
   "cell_type": "code",
   "execution_count": 25,
   "id": "b84aeab3",
   "metadata": {},
   "outputs": [],
   "source": [
    "P_1 = (df[\"Joga\"] == \"Sim\").sum() / df[\"Joga\"].count()\n",
    "P_2 = (df[\"Joga\"] == \"Não\").sum() / df[\"Joga\"].count()"
   ]
  },
  {
   "cell_type": "code",
   "execution_count": 29,
   "id": "7f645225",
   "metadata": {},
   "outputs": [
    {
     "data": {
      "text/plain": [
       "np.float64(0.9402859586706311)"
      ]
     },
     "execution_count": 29,
     "metadata": {},
     "output_type": "execute_result"
    }
   ],
   "source": [
    "H_Joga = - ( P_1 * np.log2(P_1) + P_2 * np.log2(P_2) )\n",
    "H_Joga # Entropia de Joga"
   ]
  },
  {
   "cell_type": "code",
   "execution_count": 34,
   "id": "7e0aa439",
   "metadata": {},
   "outputs": [],
   "source": [
    "# P(JOGA=SIM | TEMPO=ENSOLARADO)\n",
    "P_joga_sol = ((df[\"Joga\"] == \"Sim\") & (df[\"Tempo\"] == \"Ensolarado\")).sum()\n",
    "# P(JOGA=NAO | TEMPO=ENSOLARADO)\n",
    "P_Njoga_sol = ((df[\"Joga\"] == \"Não\") & (df[\"Tempo\"] == \"Ensolarado\")).sum()"
   ]
  },
  {
   "cell_type": "code",
   "execution_count": 35,
   "id": "a1dabc2e",
   "metadata": {},
   "outputs": [],
   "source": [
    "# ENSORALADO\n",
    "P_sol = P_joga_sol + P_Njoga_sol"
   ]
  },
  {
   "cell_type": "code",
   "execution_count": 37,
   "id": "8dd1b0d8",
   "metadata": {},
   "outputs": [
    {
     "data": {
      "text/plain": [
       "np.float64(0.9709505944546686)"
      ]
     },
     "execution_count": 37,
     "metadata": {},
     "output_type": "execute_result"
    }
   ],
   "source": [
    "# Entropia de Joga dado Tempo=Ensolarado\n",
    "H_Joga_sol = - ( P_joga_sol / P_sol * np.log2(P_joga_sol / P_sol) +\n",
    "                  P_Njoga_sol / P_sol * np.log2(P_Njoga_sol / P_sol) )\n",
    "H_Joga_sol"
   ]
  },
  {
   "cell_type": "code",
   "execution_count": 54,
   "id": "5974c5eb",
   "metadata": {},
   "outputs": [],
   "source": [
    "# Entropia de Joga dado Tempo=Chuvoso\n",
    "P_joga_chu = ((df[\"Joga\"] == \"Sim\") & (df[\"Tempo\"] == \"Chuvoso\")).sum()\n",
    "# P(JOGA=NAO | TEMPO=CHUVOSO)\n",
    "P_Njoga_chu = ((df[\"Joga\"] == \"Não\") & (df[\"Tempo\"] == \"Chuvoso\")).sum()\n",
    "# CHUVOSO\n",
    "P_chu = P_joga_chu + P_Njoga_chu\n",
    "# Entropia de Joga dado Tempo=Chuvoso\n",
    "H_Joga_chu = - ( P_joga_chu / P_chu * np.log2(P_joga_chu / P_chu) +\n",
    "                  P_Njoga_chu / P_chu * np.log2(P_Njoga_chu / P_chu) )"
   ]
  },
  {
   "cell_type": "code",
   "execution_count": 55,
   "id": "1941e8e6",
   "metadata": {},
   "outputs": [
    {
     "data": {
      "text/plain": [
       "np.float64(0.9709505944546686)"
      ]
     },
     "execution_count": 55,
     "metadata": {},
     "output_type": "execute_result"
    }
   ],
   "source": [
    "H_Joga_chu"
   ]
  },
  {
   "cell_type": "code",
   "execution_count": 56,
   "id": "69a51dc1",
   "metadata": {},
   "outputs": [],
   "source": [
    "# Entropia de Joga dado Tempo=Nublado\n",
    "P_joga_nub = ((df[\"Joga\"] == \"Sim\") & (df[\"Tempo\"] == \"Nublado\")).sum()\n",
    "# P(JOGA=NAO | TEMPO=NUBLADO)\n",
    "P_Njoga_nub = ((df[\"Joga\"] == \"Não\") & (df[\"Tempo\"] == \"Nublado\")).sum()\n",
    "# NUBLADO\n",
    "P_nub = P_joga_nub + P_Njoga_nub\n",
    "# To avoid log(0) issues, let's check for 0 and handle it:\n",
    "if P_joga_nub == 0 or P_Njoga_nub == 0:\n",
    "    H_Joga_nub = 0  # If any probability is zero, we assign entropy as 0 (no uncertainty)\n",
    "else:\n",
    "    # Entropia de Joga dado Tempo=Nublado\n",
    "    H_Joga_nub = - (P_joga_nub / P_nub * np.log2(P_joga_nub / P_nub) +\n",
    "                     P_Njoga_nub / P_nub * np.log2(P_Njoga_nub / P_nub))\n",
    "# P_Njoga_nub = 0"
   ]
  },
  {
   "cell_type": "code",
   "execution_count": 57,
   "id": "e6a930c4",
   "metadata": {},
   "outputs": [
    {
     "data": {
      "text/plain": [
       "np.float64(0.6935361388961918)"
      ]
     },
     "execution_count": 57,
     "metadata": {},
     "output_type": "execute_result"
    }
   ],
   "source": [
    "# Entropia ponderada de Tempo\n",
    "H_Tempo = (P_sol / df[\"Tempo\"].count()) * H_Joga_sol + \\\n",
    "           (P_chu / df[\"Tempo\"].count()) * H_Joga_chu + \\\n",
    "           (P_nub / df[\"Tempo\"].count()) * H_Joga_nub\n",
    "H_Tempo"
   ]
  },
  {
   "cell_type": "code",
   "execution_count": 52,
   "id": "fee37754",
   "metadata": {},
   "outputs": [
    {
     "data": {
      "text/plain": [
       "np.float64(0.24674981977443933)"
      ]
     },
     "execution_count": 52,
     "metadata": {},
     "output_type": "execute_result"
    }
   ],
   "source": [
    "# IG - Information Gain\n",
    "IG = H_Joga - H_Tempo\n",
    "IG"
   ]
  },
  {
   "cell_type": "code",
   "execution_count": 58,
   "id": "06584958",
   "metadata": {},
   "outputs": [
    {
     "name": "stdout",
     "output_type": "stream",
     "text": [
      "IG Tempo: 0.2467\n",
      "H(TEMPO): 0.6935     \n",
      "H(Joga|Nublado): 0.0000\n",
      "H(Joga|Chuvoso): 0.9710\n",
      "H(Joga|Ensolarado): 0.9710\n",
      "H(Njoga|Nublado): 0.0000\n",
      "H(Njoga|Chuvoso): 2.0000\n",
      "H(Njoga|Ensolarado): 3.0000\n"
     ]
    }
   ],
   "source": [
    "print(f\"\"\"IG Tempo: {IG:.4f}\n",
    "H(TEMPO): {H_Tempo:.4f}     \n",
    "H(Joga|Nublado): {H_Joga_nub:.4f}\n",
    "H(Joga|Chuvoso): {H_Joga_chu:.4f}\n",
    "H(Joga|Ensolarado): {H_Joga_sol:.4f}\n",
    "H(Njoga|Nublado): {P_Njoga_nub:.4f}\n",
    "H(Njoga|Chuvoso): {P_Njoga_chu:.4f}\n",
    "H(Njoga|Ensolarado): {P_Njoga_sol:.4f}\"\"\")\n"
   ]
  },
  {
   "cell_type": "markdown",
   "id": "a5e96f3d",
   "metadata": {},
   "source": [
    " IG (Information Gain) de 0.247 significa que ao saber o Tempo (Chuv, Nubl, Sol) você reduz a incerteza sobre se vai ou não jogar em 0.247 bits. Isso representa 26% da entropia de incerteza inicial (H_joga = 0.9492)"
   ]
  }
 ],
 "metadata": {
  "kernelspec": {
   "display_name": "venv",
   "language": "python",
   "name": "python3"
  },
  "language_info": {
   "codemirror_mode": {
    "name": "ipython",
    "version": 3
   },
   "file_extension": ".py",
   "mimetype": "text/x-python",
   "name": "python",
   "nbconvert_exporter": "python",
   "pygments_lexer": "ipython3",
   "version": "3.13.0"
  }
 },
 "nbformat": 4,
 "nbformat_minor": 5
}
