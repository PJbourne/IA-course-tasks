{
 "cells": [
  {
   "cell_type": "markdown",
   "id": "7db8d3c0",
   "metadata": {},
   "source": [
    "### Capítulo 6"
   ]
  },
  {
   "cell_type": "markdown",
   "id": "06683ce3",
   "metadata": {},
   "source": [
    "a. Classifique os atributos de acordo com o seu tipo e escala."
   ]
  },
  {
   "cell_type": "code",
   "execution_count": 4,
   "id": "d0a0b559",
   "metadata": {},
   "outputs": [
    {
     "name": "stdout",
     "output_type": "stream",
     "text": [
      "<class 'pandas.core.frame.DataFrame'>\n",
      "RangeIndex: 10 entries, 0 to 9\n",
      "Data columns (total 5 columns):\n",
      " #   Column   Non-Null Count  Dtype \n",
      "---  ------   --------------  ----- \n",
      " 0   ID       10 non-null     int64 \n",
      " 1   Emprego  10 non-null     object\n",
      " 2   Estado   10 non-null     object\n",
      " 3   Renda    10 non-null     int64 \n",
      " 4   Crédito  10 non-null     object\n",
      "dtypes: int64(2), object(3)\n",
      "memory usage: 532.0+ bytes\n"
     ]
    }
   ],
   "source": [
    "import pandas as pd\n",
    "# Dados da Tabela 6.3\n",
    "dados = {\n",
    "    \"ID\": [1, 2, 3, 4, 5, 6, 7, 8, 9, 10],\n",
    "    \"Emprego\": [\"Sim\", \"Não\", \"Não\", \"Sim\", \"Não\", \"Não\", \"Não\", \"Não\", \"Não\", \"Não\"],\n",
    "    \"Estado\": [\"Solteiro\", \"Casado\", \"Solteiro\", \"Casado\", \"Divorciado\", \"Casado\", \"Divorciado\", \"Solteiro\", \"Casado\", \"Divorciado\"],\n",
    "    \"Renda\": [9500, 8000, 7000, 12000, 9000, 6000, 4000, 8500, 7500, 8000],\n",
    "    \"Crédito\": [\"Sim\", \"Não\", \"Não\", \"Sim\", \"Sim\", \"Não\", \"Não\", \"Sim\", \"Não\", \"Não\"]\n",
    "}\n",
    "df = pd.DataFrame(dados)\n",
    "df.info()"
   ]
  },
  {
   "cell_type": "code",
   "execution_count": null,
   "id": "b9ad3f83",
   "metadata": {},
   "outputs": [],
   "source": []
  },
  {
   "cell_type": "markdown",
   "id": "916f926c",
   "metadata": {},
   "source": [
    "b. Calcule o ganho de informação em separar os clientes entre potenciais recebedores de crédito e potenciais não recebedores com base em cada um dos atributos qualitativos anteriores (a menos da identificação)."
   ]
  },
  {
   "cell_type": "code",
   "execution_count": null,
   "id": "ad24a99b",
   "metadata": {},
   "outputs": [],
   "source": []
  },
  {
   "cell_type": "markdown",
   "id": "3126e43a",
   "metadata": {},
   "source": [
    "c. Calcule o ganho de informação para a mesma tarefa anterior, considerando o atributo renda. Use a seguinte heurística para determinar os pontos de corte a serem considerados: ordene-os de maneira crescente; em seguida, verifique para quais valores consecutivos há uma mudança de classe (de sim para não ou vice-versa); os pontos de corte devem ser dados pela média dos valores consecutivos se- gundo a regra anterior."
   ]
  },
  {
   "cell_type": "code",
   "execution_count": null,
   "id": "bc871bc9",
   "metadata": {},
   "outputs": [],
   "source": []
  },
  {
   "cell_type": "markdown",
   "id": "6c498d16",
   "metadata": {},
   "source": [
    "d. Construa a árvore de decisão completa para o conjunto de dados considerado, usando o critério de ganho de informação com entropia."
   ]
  },
  {
   "cell_type": "code",
   "execution_count": null,
   "id": "ce4ca7ad",
   "metadata": {},
   "outputs": [],
   "source": []
  },
  {
   "cell_type": "markdown",
   "id": "505ebf8d",
   "metadata": {},
   "source": []
  }
 ],
 "metadata": {
  "kernelspec": {
   "display_name": "venv",
   "language": "python",
   "name": "python3"
  },
  "language_info": {
   "codemirror_mode": {
    "name": "ipython",
    "version": 3
   },
   "file_extension": ".py",
   "mimetype": "text/x-python",
   "name": "python",
   "nbconvert_exporter": "python",
   "pygments_lexer": "ipython3",
   "version": "3.13.0"
  }
 },
 "nbformat": 4,
 "nbformat_minor": 5
}
