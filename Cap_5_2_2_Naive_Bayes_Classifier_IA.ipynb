{
  "nbformat": 4,
  "nbformat_minor": 0,
  "metadata": {
    "colab": {
      "provenance": [],
      "authorship_tag": "ABX9TyMUioPVUqm827K8eGqbJPHb",
      "include_colab_link": true
    },
    "kernelspec": {
      "name": "python3",
      "display_name": "Python 3"
    },
    "language_info": {
      "name": "python"
    }
  },
  "cells": [
    {
      "cell_type": "markdown",
      "metadata": {
        "id": "view-in-github",
        "colab_type": "text"
      },
      "source": [
        "<a href=\"https://colab.research.google.com/github/PJbourne/IA-course-tasks/blob/main/Cap_5_2_2_Naive_Bayes_Classifier_IA.ipynb\" target=\"_parent\"><img src=\"https://colab.research.google.com/assets/colab-badge.svg\" alt=\"Open In Colab\"/></a>"
      ]
    },
    {
      "cell_type": "code",
      "execution_count": null,
      "metadata": {
        "id": "OZ5SBfdDItGS"
      },
      "outputs": [],
      "source": [
        "import pandas as pd\n",
        "import numpy as np\n",
        "dados = [\n",
        "\n",
        "    {\"Atributo\": \"Peso_Esq\", \"Classe\": \"Balanceada\", \"Média\": 2.938, \"Desvio\": 1.42, \"V1\": 10, \"V2\": 11, \"V3\": 9, \"V4\": 10, \"V5\": 9},\n",
        "    {\"Atributo\": \"Peso_Esq\", \"Classe\": \"Esquerda\", \"Média\": 3.611, \"Desvio\": 1.23, \"V1\": 17, \"V2\": 43, \"V3\": 63, \"V4\": 77, \"V5\": 88},\n",
        "    {\"Atributo\": \"Peso_Esq\", \"Classe\": \"Direita\", \"Média\": 2.399, \"Desvio\": 1.33, \"V1\": 98, \"V2\": 71, \"V3\": 53, \"V4\": 38, \"V5\": 28},\n",
        "\n",
        "    {\"Atributo\": \"Distância_Esq\", \"Classe\": \"Balanceada\", \"Média\": 2.938, \"Desvio\": 1.42, \"V1\": 10, \"V2\": 11, \"V3\": 9, \"V4\": 10, \"V5\": 9},\n",
        "    {\"Atributo\": \"Distância_Esq\", \"Classe\": \"Esquerda\", \"Média\": 3.611, \"Desvio\": 1.22, \"V1\": 17, \"V2\": 43, \"V3\": 63, \"V4\": 77, \"V5\": 88},\n",
        "    {\"Atributo\": \"Distância_Esq\", \"Classe\": \"Direita\", \"Média\": 2.399, \"Desvio\": 1.33, \"V1\": 98, \"V2\": 71, \"V3\": 53, \"V4\": 38, \"V5\": 28},\n",
        "\n",
        "    {\"Atributo\": \"Peso_Dir\", \"Classe\": \"Balanceada\", \"Média\": 2.938, \"Desvio\": 1.42, \"V1\": 10, \"V2\": 11, \"V3\": 9, \"V4\": 10, \"V5\": 9},\n",
        "    {\"Atributo\": \"Peso_Dir\", \"Classe\": \"Esquerda\", \"Média\": 2.399, \"Desvio\": 1.33, \"V1\": 98, \"V2\": 71, \"V3\": 53, \"V4\": 38, \"V5\": 28},\n",
        "    {\"Atributo\": \"Peso_Dir\", \"Classe\": \"Direita\", \"Média\": 3.611, \"Desvio\": 1.22, \"V1\": 17, \"V2\": 43, \"V3\": 63, \"V4\": 77, \"V5\": 88},\n",
        "\n",
        "    {\"Atributo\": \"Distância_Dir\", \"Classe\": \"Balanceada\", \"Média\": 2.938, \"Desvio\": 1.42, \"V1\": 10, \"V2\": 11, \"V3\": 9, \"V4\": 10, \"V5\": 9},\n",
        "    {\"Atributo\": \"Distância_Dir\", \"Classe\": \"Esquerda\", \"Média\": 2.399, \"Desvio\": 1.33, \"V1\": 98, \"V2\": 71, \"V3\": 53, \"V4\": 38, \"V5\": 28},\n",
        "    {\"Atributo\": \"Distância_Dir\", \"Classe\": \"Direita\", \"Média\": 3.611, \"Desvio\": 1.22, \"V1\": 17, \"V2\": 43, \"V3\": 63, \"V4\": 77, \"V5\": 88},\n",
        "]\n",
        "df = pd.DataFrame(dados)\n",
        "\n",
        "valores_e_probabilidades = [\n",
        "{\"\": \"Contagem\" ,\"Balanceada\":49, \"Esquerda\":288, \"Direita\":288},\n",
        "{\"\": \"P(Classe)\",\"Balanceada\":0.078, \"Esquerda\":0.461, \"Direita\":0.461},\n",
        "]\n",
        "df2 = pd.DataFrame(valores_e_probabilidades)\n",
        "df"
      ]
    },
    {
      "cell_type": "code",
      "source": [
        "df2"
      ],
      "metadata": {
        "id": "fSIBvuuvIxH3"
      },
      "execution_count": null,
      "outputs": []
    },
    {
      "cell_type": "code",
      "source": [
        "# Calculo => P (c | x) para c = {Balanceada, Esquerda, Direita}\n",
        "# Atributos:\n",
        "# 𝑥 = (PesoEsq, DistEsq, PesoDir, DistDir)\n",
        "x1 = [3, 2, 1, 3]\n",
        "# P(c) * P(V3 ∣ c, PesoEsq​) * P(V2 ∣ c, DistEsq​) * P(V1 ∣ c, PesoDir) * P(V3 ∣ c, DistDir)\n",
        "A = np.log10(0.461).round(2) + (\n",
        "    np.log10((df[(df.Atributo == \"Peso_Esq\")      & (df.Classe == \"Esquerda\")].V3.iloc[0]) / 288).round(2) +\n",
        "    np.log10((df[(df.Atributo == \"Distância_Esq\") & (df.Classe == \"Esquerda\")].V2.iloc[0]) / 288).round(2) +\n",
        "    np.log10((df[(df.Atributo == \"Peso_Dir\")      & (df.Classe == \"Esquerda\")].V1.iloc[0]) / 288).round(2) +\n",
        "    np.log10((df[(df.Atributo == \"Distância_Dir\") & (df.Classe == \"Esquerda\")].V3.iloc[0]) / 288).round(2)\n",
        ")\n",
        "print(A) #P(Esq ∣ x1) ~ 0.0020452245599775487\n",
        "B = np.log10(0.461).round(2) + (\n",
        "    np.log10((df[(df.Atributo == \"Peso_Esq\")      & (df.Classe == \"Direita\")].V3.iloc[0]) / 288).round(2) +\n",
        "    np.log10((df[(df.Atributo == \"Distância_Esq\") & (df.Classe == \"Direita\")].V2.iloc[0]) / 288).round(2) +\n",
        "    np.log10((df[(df.Atributo == \"Peso_Dir\")      & (df.Classe == \"Direita\")].V1.iloc[0]) / 288).round(2) +\n",
        "    np.log10((df[(df.Atributo == \"Distância_Dir\") & (df.Classe == \"Direita\")].V3.iloc[0]) / 288).round(2)\n",
        ")\n",
        "print(B) # P(Esq ∣ x1) ~ 0.0005858058955607265\n",
        "C = np.log10(0.078).round(2) + (\n",
        "    np.log10((df[(df.Atributo == \"Peso_Esq\")      & (df.Classe == \"Balanceada\")].V3.iloc[0]) / 49).round(2) +\n",
        "    np.log10((df[(df.Atributo == \"Distância_Esq\") & (df.Classe == \"Balanceada\")].V2.iloc[0]) / 49).round(2) +\n",
        "    np.log10((df[(df.Atributo == \"Peso_Dir\")      & (df.Classe == \"Balanceada\")].V1.iloc[0]) / 49).round(2) +\n",
        "    np.log10((df[(df.Atributo == \"Distância_Dir\") & (df.Classe == \"Balanceada\")].V3.iloc[0]) / 49).round(2)\n",
        ")\n",
        "print(C) # P(Esq ∣ x1) ~ 0.0015455867427167046"
      ],
      "metadata": {
        "id": "tNb5d7rmIyau"
      },
      "execution_count": null,
      "outputs": []
    },
    {
      "cell_type": "code",
      "source": [
        "A = np.pow(10, A)\n",
        "B = np.pow(10, B)\n",
        "C = np.pow(10, C)"
      ],
      "metadata": {
        "id": "5wBLvX3AI0eO"
      },
      "execution_count": null,
      "outputs": []
    },
    {
      "cell_type": "code",
      "source": [
        "print((A/(A + B + C)).round(2))\n",
        "print((B/(A + B + C)).round(2))\n",
        "print((C/(A + B + C)).round(2))"
      ],
      "metadata": {
        "id": "OMaWtODMI2je"
      },
      "execution_count": null,
      "outputs": []
    }
  ]
}