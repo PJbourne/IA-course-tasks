{
 "cells": [
  {
   "cell_type": "markdown",
   "id": "82338d59",
   "metadata": {},
   "source": [
    "<h1>Capítulo 4<h1>"
   ]
  },
  {
   "cell_type": "markdown",
   "id": "2900b7da",
   "metadata": {},
   "source": [
    "### Medida euclidiana\n",
    "\n",
    "`d(x, y) = √(∑(xi - yi)²)`\n",
    "\n",
    "`x = (1, 3, 5, 7, 9)`\n",
    "`y = (2, 4, 6, 8, 10)`\n",
    "\n",
    "`d(x, y) = √[(1−2)² + (3−4)² + (5−6)² + (7−8)² + (9−10)²]  `\n",
    "\n",
    "`        = √[(−1)² + (−1)² + (−1)² + (−1)² + (−1)²]  `\n",
    "\n",
    "`        = √[1 + 1 + 1 + 1 + 1]  `\n",
    "\n",
    "`        = √5  `\n",
    "\n",
    "`        ≈ 2.24`"
   ]
  },
  {
   "cell_type": "code",
   "execution_count": 3,
   "id": "e6a3b039",
   "metadata": {},
   "outputs": [
    {
     "name": "stdout",
     "output_type": "stream",
     "text": [
      "2.24\n",
      "2.24\n"
     ]
    }
   ],
   "source": [
    "import numpy as np\n",
    "\n",
    "x = (1, 3, 5, 7, 9)  \n",
    "y = (2, 4, 6, 8, 10)\n",
    "\n",
    "def sumSquare(x, y):\n",
    "    return ((x - y) ** 2)\n",
    "lambda_sumSquare = lambda x, y: ((x - y) ** 2)\n",
    "\n",
    "def knearest(sumSquare, x, y):\n",
    "    sumSquares = 0\n",
    "    for i in range(len(x)):\n",
    "        sumSquares = sumSquares + sumSquare(x[i], y[i])\n",
    "    return np.sqrt(sumSquares)\n",
    "\n",
    "print(knearest(sumSquare, x, y).round(2))\n",
    "print(knearest(lambda_sumSquare, x, y).round(2))"
   ]
  },
  {
   "cell_type": "markdown",
   "id": "eb705080",
   "metadata": {},
   "source": [
    "### Distância de Manhattan\n",
    "\n",
    "`d(x, y) = ∑|xi - yi|`\n",
    "\n",
    "`x = (1, 3, 5, 7, 9)  `\n",
    "\n",
    "`y = (2, 4, 6, 8, 10)`\n",
    "\n",
    "`|1−2| + |3−4| + |5−6| + |7−8| + |9−10| `\n",
    "\n",
    "`1 + 1 + 1 + 1 + 1 `\n",
    "\n",
    "`5`\n"
   ]
  },
  {
   "cell_type": "code",
   "execution_count": 12,
   "id": "16502909",
   "metadata": {},
   "outputs": [
    {
     "name": "stdout",
     "output_type": "stream",
     "text": [
      "5\n"
     ]
    }
   ],
   "source": [
    "import numpy as np\n",
    "x = (1, 3, 5, 7, 9)\n",
    "y = (2, 4, 6, 8, 10)\n",
    "\n",
    "def knearest(x, y):\n",
    "    sumSquares = 0\n",
    "    for i in range(len(x)):\n",
    "        sumSquares = sumSquares + sumSquare(x[i], y[i])\n",
    "    return (sumSquares)\n",
    "\n",
    "print(knearest(x, y))"
   ]
  },
  {
   "cell_type": "markdown",
   "id": "1f6dfed1",
   "metadata": {},
   "source": [
    "### Distância de Hamming\n",
    "\n",
    "A **distância de Hamming** entre dois vetores é o **número de posições em que os elementos são diferentes**.\n",
    "\n",
    "**Fórmula**:  \n",
    "`d(x, y) = número de posições em que xi ≠ yi`\n",
    "\n",
    "---\n",
    "#### Exemplo:\n",
    "\n",
    "Comparando as palavras: ANTAGONISTA <-> MARATONISTA\n",
    "\n",
    "(True = 1, False = 0)\n",
    "\n",
    "| Posição | A | N | T | A | G | O | N | I | S | T | A |\n",
    "|---------|---|---|---|---|---|---|---|---|---|---|---|\n",
    "| Palavra 1 | A | N | T | A | G | O | N | I | S | T | A |\n",
    "| Palavra 2 | M | A | R | A | T | O | N | I | S | T | A |\n",
    "| Diferença | 1 | 1 | 1 | 0 | 1 | 0 | 0 | 0 | 0 | 0 | 0 |"
   ]
  },
  {
   "cell_type": "markdown",
   "id": "36ad43c3",
   "metadata": {},
   "source": [
    "### Ciclos de um RBC - Raciocínio baseado em casos\n",
    "\n",
    "1. Recuperação:\n",
    "\n",
    "Recuperar o dado mais similar armazenado\n",
    "\n",
    "2. Reutilização\n",
    "\n",
    "Adapta parte da solução do caso recuperado. A solução do caso recuperado pé ponto de partida para a solução do novo problema.\n",
    "\n",
    "3. Revisão\n",
    "\n",
    "A solução adaptada é revisada para validar sua relevância. Verificação feita por simulação, por aplicação, por um usuário, ou por conhecimento da própria base de casos.\n",
    "\n",
    "4. Retenção\n",
    "\n",
    "Caso relevante ela é armazenada na base de casos.\n"
   ]
  },
  {
   "cell_type": "markdown",
   "id": "bdc17475",
   "metadata": {},
   "source": [
    "### Em que casos o RBC não é aplicável?\n",
    "\n",
    "- Em casos totalmente novos\n",
    "- Quando o sistema não possui base de casos\n",
    "- Quando operando em domínios diferentes ou inexplorados\n",
    "- Em problemas de solução exata (bem definida). Por exemplo problemas matemáticos\n",
    "\n",
    "### Onde o RBC pode ser aplicado em conjunto com outras técnicas?\n",
    "\n",
    "- Em domínios complexos\n",
    "- Em Modelos preditivos\n",
    "- Quando a adaptação requer modelos preditivos\n",
    "- Quando a adaptação requer aprendizado adicional\n"
   ]
  },
  {
   "cell_type": "markdown",
   "id": "3c693c8e",
   "metadata": {},
   "source": [
    "<h1>Capítulo 5<h1>"
   ]
  },
  {
   "cell_type": "markdown",
   "id": "945ffcab",
   "metadata": {},
   "source": [
    "### 1. Qual a diferença entre modelos generativos e discriminativos? E qual categoria do modelo Naive Bayes?\n",
    "\n",
    "Os modelos generativos \"entendem\" como os dados surgem em cada classe equanto os modelos discriminativos apenas \"separa\" sod dados nas classes da melhor forma possível.\n",
    "\n",
    "Nive Bayes é um modelo generativo pois basea na análise estatística, criando \"grupos de probabilidade\" que podem ou não ter áreas em comum. Se fosse um modelo discriminativo, ele partiria de uma análise menos probabilistica e mais \"categorizadora\"."
   ]
  },
  {
   "cell_type": "markdown",
   "id": "c1f28a3a",
   "metadata": {},
   "source": [
    "### 2. Como estimamos a probabilidade a priori utilizada no teorema de Bayes?\n",
    "\n",
    "A estimativa é feita com base em dados históricos (por exemplo na quantidade de vezes que ocorreu) ou empiricamente (baseado em experiência ou crença)"
   ]
  },
  {
   "cell_type": "markdown",
   "id": "e212faab",
   "metadata": {},
   "source": [
    "### 3. Qual é a principal deficiência do naive Bayes? Por quê?\n",
    "\n",
    "A principal deficiência é a suposição de independência entre as variáveis de uma classe. Antes de aplicar o naive Bayes é importante separar as variáveis correlacionadas, de forma a aplicar o modelo á variáveis o mais independentes possíveis."
   ]
  },
  {
   "cell_type": "markdown",
   "id": "33f54848",
   "metadata": {},
   "source": [
    "### 4. Considere o problema do exemplo ilustrativo apresentado neste capítulo, de nome BALANCE. Usando os valoresdas Tabelas 5.1 e 5.2 para obter os valores de probabilidade envolvidos, responda aos exercícios a seguir:\n"
   ]
  },
  {
   "cell_type": "markdown",
   "id": "b9aa9911",
   "metadata": {},
   "source": [
    "Dados:\n",
    "\n",
    "\n",
    "625 exemplos\n",
    "\n",
    "39 balanceados\n",
    "\n",
    "288 a esquerda\n",
    "\n",
    "288 a direita\n",
    "\n",
    "\n",
    "Dominio dos atributos:  {V1, V2, V3, V4, V5}\n",
    "\n",
    "Atributos: \n",
    "PesoEsq, DistEsq, PesoDir, DistDir\n",
    "\n",
    "Dominio das classes:    Esqueda, Direita, Equilibrado"
   ]
  },
  {
   "cell_type": "code",
   "execution_count": 3,
   "id": "23cbc09a",
   "metadata": {},
   "outputs": [
    {
     "data": {
      "text/html": [
       "<div>\n",
       "<style scoped>\n",
       "    .dataframe tbody tr th:only-of-type {\n",
       "        vertical-align: middle;\n",
       "    }\n",
       "\n",
       "    .dataframe tbody tr th {\n",
       "        vertical-align: top;\n",
       "    }\n",
       "\n",
       "    .dataframe thead th {\n",
       "        text-align: right;\n",
       "    }\n",
       "</style>\n",
       "<table border=\"1\" class=\"dataframe\">\n",
       "  <thead>\n",
       "    <tr style=\"text-align: right;\">\n",
       "      <th></th>\n",
       "      <th>Atributo</th>\n",
       "      <th>Classe</th>\n",
       "      <th>Média</th>\n",
       "      <th>Desvio</th>\n",
       "      <th>V1</th>\n",
       "      <th>V2</th>\n",
       "      <th>V3</th>\n",
       "      <th>V4</th>\n",
       "      <th>V5</th>\n",
       "    </tr>\n",
       "  </thead>\n",
       "  <tbody>\n",
       "    <tr>\n",
       "      <th>0</th>\n",
       "      <td>Peso_Esq</td>\n",
       "      <td>Balanceada</td>\n",
       "      <td>2.938</td>\n",
       "      <td>1.42</td>\n",
       "      <td>10</td>\n",
       "      <td>11</td>\n",
       "      <td>9</td>\n",
       "      <td>10</td>\n",
       "      <td>9</td>\n",
       "    </tr>\n",
       "    <tr>\n",
       "      <th>1</th>\n",
       "      <td>Peso_Esq</td>\n",
       "      <td>Esquerda</td>\n",
       "      <td>3.611</td>\n",
       "      <td>1.23</td>\n",
       "      <td>17</td>\n",
       "      <td>43</td>\n",
       "      <td>63</td>\n",
       "      <td>77</td>\n",
       "      <td>88</td>\n",
       "    </tr>\n",
       "    <tr>\n",
       "      <th>2</th>\n",
       "      <td>Peso_Esq</td>\n",
       "      <td>Direita</td>\n",
       "      <td>2.399</td>\n",
       "      <td>1.33</td>\n",
       "      <td>98</td>\n",
       "      <td>71</td>\n",
       "      <td>53</td>\n",
       "      <td>38</td>\n",
       "      <td>28</td>\n",
       "    </tr>\n",
       "    <tr>\n",
       "      <th>3</th>\n",
       "      <td>Distância_Esq</td>\n",
       "      <td>Balanceada</td>\n",
       "      <td>2.938</td>\n",
       "      <td>1.42</td>\n",
       "      <td>10</td>\n",
       "      <td>11</td>\n",
       "      <td>9</td>\n",
       "      <td>10</td>\n",
       "      <td>9</td>\n",
       "    </tr>\n",
       "    <tr>\n",
       "      <th>4</th>\n",
       "      <td>Distância_Esq</td>\n",
       "      <td>Esquerda</td>\n",
       "      <td>3.611</td>\n",
       "      <td>1.22</td>\n",
       "      <td>17</td>\n",
       "      <td>43</td>\n",
       "      <td>63</td>\n",
       "      <td>77</td>\n",
       "      <td>88</td>\n",
       "    </tr>\n",
       "    <tr>\n",
       "      <th>5</th>\n",
       "      <td>Distância_Esq</td>\n",
       "      <td>Direita</td>\n",
       "      <td>2.399</td>\n",
       "      <td>1.33</td>\n",
       "      <td>98</td>\n",
       "      <td>71</td>\n",
       "      <td>53</td>\n",
       "      <td>38</td>\n",
       "      <td>28</td>\n",
       "    </tr>\n",
       "    <tr>\n",
       "      <th>6</th>\n",
       "      <td>Peso_Dir</td>\n",
       "      <td>Balanceada</td>\n",
       "      <td>2.938</td>\n",
       "      <td>1.42</td>\n",
       "      <td>10</td>\n",
       "      <td>11</td>\n",
       "      <td>9</td>\n",
       "      <td>10</td>\n",
       "      <td>9</td>\n",
       "    </tr>\n",
       "    <tr>\n",
       "      <th>7</th>\n",
       "      <td>Peso_Dir</td>\n",
       "      <td>Esquerda</td>\n",
       "      <td>2.399</td>\n",
       "      <td>1.33</td>\n",
       "      <td>98</td>\n",
       "      <td>71</td>\n",
       "      <td>53</td>\n",
       "      <td>38</td>\n",
       "      <td>28</td>\n",
       "    </tr>\n",
       "    <tr>\n",
       "      <th>8</th>\n",
       "      <td>Peso_Dir</td>\n",
       "      <td>Direita</td>\n",
       "      <td>3.611</td>\n",
       "      <td>1.22</td>\n",
       "      <td>17</td>\n",
       "      <td>43</td>\n",
       "      <td>63</td>\n",
       "      <td>77</td>\n",
       "      <td>88</td>\n",
       "    </tr>\n",
       "    <tr>\n",
       "      <th>9</th>\n",
       "      <td>Distância_Dir</td>\n",
       "      <td>Balanceada</td>\n",
       "      <td>2.938</td>\n",
       "      <td>1.42</td>\n",
       "      <td>10</td>\n",
       "      <td>11</td>\n",
       "      <td>9</td>\n",
       "      <td>10</td>\n",
       "      <td>9</td>\n",
       "    </tr>\n",
       "    <tr>\n",
       "      <th>10</th>\n",
       "      <td>Distância_Dir</td>\n",
       "      <td>Esquerda</td>\n",
       "      <td>2.399</td>\n",
       "      <td>1.33</td>\n",
       "      <td>98</td>\n",
       "      <td>71</td>\n",
       "      <td>53</td>\n",
       "      <td>38</td>\n",
       "      <td>28</td>\n",
       "    </tr>\n",
       "    <tr>\n",
       "      <th>11</th>\n",
       "      <td>Distância_Dir</td>\n",
       "      <td>Direita</td>\n",
       "      <td>3.611</td>\n",
       "      <td>1.22</td>\n",
       "      <td>17</td>\n",
       "      <td>43</td>\n",
       "      <td>63</td>\n",
       "      <td>77</td>\n",
       "      <td>88</td>\n",
       "    </tr>\n",
       "  </tbody>\n",
       "</table>\n",
       "</div>"
      ],
      "text/plain": [
       "         Atributo      Classe  Média  Desvio  V1  V2  V3  V4  V5\n",
       "0        Peso_Esq  Balanceada  2.938    1.42  10  11   9  10   9\n",
       "1        Peso_Esq    Esquerda  3.611    1.23  17  43  63  77  88\n",
       "2        Peso_Esq     Direita  2.399    1.33  98  71  53  38  28\n",
       "3   Distância_Esq  Balanceada  2.938    1.42  10  11   9  10   9\n",
       "4   Distância_Esq    Esquerda  3.611    1.22  17  43  63  77  88\n",
       "5   Distância_Esq     Direita  2.399    1.33  98  71  53  38  28\n",
       "6        Peso_Dir  Balanceada  2.938    1.42  10  11   9  10   9\n",
       "7        Peso_Dir    Esquerda  2.399    1.33  98  71  53  38  28\n",
       "8        Peso_Dir     Direita  3.611    1.22  17  43  63  77  88\n",
       "9   Distância_Dir  Balanceada  2.938    1.42  10  11   9  10   9\n",
       "10  Distância_Dir    Esquerda  2.399    1.33  98  71  53  38  28\n",
       "11  Distância_Dir     Direita  3.611    1.22  17  43  63  77  88"
      ]
     },
     "execution_count": 3,
     "metadata": {},
     "output_type": "execute_result"
    }
   ],
   "source": [
    "import pandas as pd\n",
    "\n",
    "dados = [\n",
    "\n",
    "    {\"Atributo\": \"Peso_Esq\", \"Classe\": \"Balanceada\", \"Média\": 2.938, \"Desvio\": 1.42, \"V1\": 10, \"V2\": 11, \"V3\": 9, \"V4\": 10, \"V5\": 9},\n",
    "    {\"Atributo\": \"Peso_Esq\", \"Classe\": \"Esquerda\", \"Média\": 3.611, \"Desvio\": 1.23, \"V1\": 17, \"V2\": 43, \"V3\": 63, \"V4\": 77, \"V5\": 88},\n",
    "    {\"Atributo\": \"Peso_Esq\", \"Classe\": \"Direita\", \"Média\": 2.399, \"Desvio\": 1.33, \"V1\": 98, \"V2\": 71, \"V3\": 53, \"V4\": 38, \"V5\": 28},\n",
    "\n",
    "    {\"Atributo\": \"Distância_Esq\", \"Classe\": \"Balanceada\", \"Média\": 2.938, \"Desvio\": 1.42, \"V1\": 10, \"V2\": 11, \"V3\": 9, \"V4\": 10, \"V5\": 9},\n",
    "    {\"Atributo\": \"Distância_Esq\", \"Classe\": \"Esquerda\", \"Média\": 3.611, \"Desvio\": 1.22, \"V1\": 17, \"V2\": 43, \"V3\": 63, \"V4\": 77, \"V5\": 88},\n",
    "    {\"Atributo\": \"Distância_Esq\", \"Classe\": \"Direita\", \"Média\": 2.399, \"Desvio\": 1.33, \"V1\": 98, \"V2\": 71, \"V3\": 53, \"V4\": 38, \"V5\": 28},\n",
    "\n",
    "    {\"Atributo\": \"Peso_Dir\", \"Classe\": \"Balanceada\", \"Média\": 2.938, \"Desvio\": 1.42, \"V1\": 10, \"V2\": 11, \"V3\": 9, \"V4\": 10, \"V5\": 9},\n",
    "    {\"Atributo\": \"Peso_Dir\", \"Classe\": \"Esquerda\", \"Média\": 2.399, \"Desvio\": 1.33, \"V1\": 98, \"V2\": 71, \"V3\": 53, \"V4\": 38, \"V5\": 28},\n",
    "    {\"Atributo\": \"Peso_Dir\", \"Classe\": \"Direita\", \"Média\": 3.611, \"Desvio\": 1.22, \"V1\": 17, \"V2\": 43, \"V3\": 63, \"V4\": 77, \"V5\": 88},\n",
    "\n",
    "    {\"Atributo\": \"Distância_Dir\", \"Classe\": \"Balanceada\", \"Média\": 2.938, \"Desvio\": 1.42, \"V1\": 10, \"V2\": 11, \"V3\": 9, \"V4\": 10, \"V5\": 9},\n",
    "    {\"Atributo\": \"Distância_Dir\", \"Classe\": \"Esquerda\", \"Média\": 2.399, \"Desvio\": 1.33, \"V1\": 98, \"V2\": 71, \"V3\": 53, \"V4\": 38, \"V5\": 28},\n",
    "    {\"Atributo\": \"Distância_Dir\", \"Classe\": \"Direita\", \"Média\": 3.611, \"Desvio\": 1.22, \"V1\": 17, \"V2\": 43, \"V3\": 63, \"V4\": 77, \"V5\": 88},\n",
    "]\n",
    "df = pd.DataFrame(dados)\n",
    "df"
   ]
  },
  {
   "cell_type": "markdown",
   "id": "24019214",
   "metadata": {},
   "source": [
    "a. Classifique o exemplo x1 = (3,2,1,3) pressupondo os valores discretizados para os atributos."
   ]
  },
  {
   "cell_type": "code",
   "execution_count": null,
   "id": "d75b26ef",
   "metadata": {},
   "outputs": [
    {
     "name": "stdout",
     "output_type": "stream",
     "text": [
      "0.0020452245599775487\n",
      "0.0005858058955607265\n",
      "0.0015455867427167046\n"
     ]
    }
   ],
   "source": [
    "# Calculo => P (c | x) para c = {Balanceada, Esquerda, Direita}\n",
    "# Atributos:\n",
    "# 𝑥 = (PesoEsq, DistEsq, PesoDir, DistDir)\n",
    "x1 = [3, 2, 1, 3]\n",
    "# P(c) * P(V3 ∣ c, PesoEsq​) * P(V2 ∣ c, DistEsq​) * P(V1 ∣ c, PesoDir) * P(V3 ∣ c, DistDir)\n",
    "A = (\n",
    "    (df[(df.Atributo == \"Peso_Esq\")      & (df.Classe == \"Esquerda\")].V3.iloc[0] / 288) *\n",
    "    (df[(df.Atributo == \"Distância_Esq\") & (df.Classe == \"Esquerda\")].V2.iloc[0] / 288) *\n",
    "    (df[(df.Atributo == \"Peso_Dir\")      & (df.Classe == \"Esquerda\")].V1.iloc[0] / 288) *\n",
    "    (df[(df.Atributo == \"Distância_Dir\") & (df.Classe == \"Esquerda\")].V3.iloc[0] / 288)\n",
    ")\n",
    "print(A) #P(Esq ∣ x1) ~ 0.0020452245599775487\n",
    "B = (\n",
    "    (df[(df.Atributo == \"Peso_Esq\")      & (df.Classe == \"Direita\")].V3.iloc[0] / 288) *\n",
    "    (df[(df.Atributo == \"Distância_Esq\") & (df.Classe == \"Direita\")].V2.iloc[0] / 288) *\n",
    "    (df[(df.Atributo == \"Peso_Dir\")      & (df.Classe == \"Direita\")].V1.iloc[0] / 288) *\n",
    "    (df[(df.Atributo == \"Distância_Dir\") & (df.Classe == \"Direita\")].V3.iloc[0] / 288)\n",
    ")\n",
    "print(B) # P(Esq ∣ x1) ~ 0.0005858058955607265\n",
    "C = (\n",
    "    (df[(df.Atributo == \"Peso_Esq\")      & (df.Classe == \"Balanceada\")].V3.iloc[0] / 49) *\n",
    "    (df[(df.Atributo == \"Distância_Esq\") & (df.Classe == \"Balanceada\")].V2.iloc[0] / 49) *\n",
    "    (df[(df.Atributo == \"Peso_Dir\")      & (df.Classe == \"Balanceada\")].V1.iloc[0] / 49) *\n",
    "    (df[(df.Atributo == \"Distância_Dir\") & (df.Classe == \"Balanceada\")].V3.iloc[0] / 49)\n",
    ")\n",
    "print(C) # P(Esq ∣ x1) ~ 0.0015455867427167046\n"
   ]
  },
  {
   "cell_type": "code",
   "execution_count": 43,
   "id": "42cb26f5",
   "metadata": {},
   "outputs": [
    {
     "data": {
      "text/plain": [
       "np.float64(0.4896844654166673)"
      ]
     },
     "execution_count": 43,
     "metadata": {},
     "output_type": "execute_result"
    }
   ],
   "source": [
    "A/(A + B + C)"
   ]
  },
  {
   "cell_type": "markdown",
   "id": "ac74b8e2",
   "metadata": {},
   "source": [
    "\n",
    "\n",
    "b. Repita o exercício do item anterior, considerando que os atributos seguem uma distribuição gaussiana.\n",
    "\n",
    "c. Classifique o exemplo x2 = (1,2,2,3) pressupondo os valores discretizados para os atributos.\n",
    "\n",
    "d. Repita o exercício do item anterior, considerando que os atributos seguem uma distribuição gaussiana.\n",
    "\n",
    "e. Discuta os resultados obtidos anteriormente, comparando os diferentes métodos para tratar os atributoscontínuos e a qualidade das previsões obtidas."
   ]
  }
 ],
 "metadata": {
  "kernelspec": {
   "display_name": "Python 3",
   "language": "python",
   "name": "python3"
  },
  "language_info": {
   "codemirror_mode": {
    "name": "ipython",
    "version": 3
   },
   "file_extension": ".py",
   "mimetype": "text/x-python",
   "name": "python",
   "nbconvert_exporter": "python",
   "pygments_lexer": "ipython3",
   "version": "3.13.0"
  }
 },
 "nbformat": 4,
 "nbformat_minor": 5
}
